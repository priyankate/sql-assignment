{
  "nbformat": 4,
  "nbformat_minor": 0,
  "metadata": {
    "colab": {
      "provenance": []
    },
    "kernelspec": {
      "name": "python3",
      "display_name": "Python 3"
    },
    "accelerator": "GPU"
  },
  "cells": [
    {
      "cell_type": "code",
      "metadata": {
        "id": "a-kECvLCAIO3"
      },
      "source": [],
      "execution_count": null,
      "outputs": []
    },
    {
      "cell_type": "code",
      "metadata": {
        "id": "fmZQrS2ghCnp",
        "colab": {
          "base_uri": "https://localhost:8080/",
          "height": 122
        },
        "outputId": "de6f1045-48c4-4cb4-d25a-4d1e7be3203e"
      },
      "source": [
        "from google.colab import drive\n",
        "drive.mount('/content/drive')"
      ],
      "execution_count": null,
      "outputs": [
        {
          "output_type": "stream",
          "text": [
            "Go to this URL in a browser: https://accounts.google.com/o/oauth2/auth?client_id=947318989803-6bn6qk8qdgf4n4g3pfee6491hc0brc4i.apps.googleusercontent.com&redirect_uri=urn%3aietf%3awg%3aoauth%3a2.0%3aoob&response_type=code&scope=email%20https%3a%2f%2fwww.googleapis.com%2fauth%2fdocs.test%20https%3a%2f%2fwww.googleapis.com%2fauth%2fdrive%20https%3a%2f%2fwww.googleapis.com%2fauth%2fdrive.photos.readonly%20https%3a%2f%2fwww.googleapis.com%2fauth%2fpeopleapi.readonly\n",
            "\n",
            "Enter your authorization code:\n",
            "··········\n",
            "Mounted at /content/drive\n"
          ],
          "name": "stdout"
        }
      ]
    },
    {
      "cell_type": "code",
      "metadata": {
        "id": "6AD2K9E8wqIS",
        "colab": {
          "base_uri": "https://localhost:8080/",
          "height": 359
        },
        "outputId": "5fad304b-1a98-45cd-cfd0-78642b9fcf7a"
      },
      "source": [
        "import pandas as pd\n",
        "import sqlite3\n",
        "conn = sqlite3.connect(\"/content/drive/My Drive/Colab Notebooks/Db-IMDB-Assignment.db\")\n",
        "\n",
        "result = pd.read_sql_query(\"SELECT * FROM MOVIE LIMIT 10 \", conn)\n",
        "result\n"
      ],
      "execution_count": null,
      "outputs": [
        {
          "output_type": "execute_result",
          "data": {
            "text/html": [
              "<div>\n",
              "<style scoped>\n",
              "    .dataframe tbody tr th:only-of-type {\n",
              "        vertical-align: middle;\n",
              "    }\n",
              "\n",
              "    .dataframe tbody tr th {\n",
              "        vertical-align: top;\n",
              "    }\n",
              "\n",
              "    .dataframe thead th {\n",
              "        text-align: right;\n",
              "    }\n",
              "</style>\n",
              "<table border=\"1\" class=\"dataframe\">\n",
              "  <thead>\n",
              "    <tr style=\"text-align: right;\">\n",
              "      <th></th>\n",
              "      <th>index</th>\n",
              "      <th>MID</th>\n",
              "      <th>title</th>\n",
              "      <th>year</th>\n",
              "      <th>rating</th>\n",
              "      <th>num_votes</th>\n",
              "    </tr>\n",
              "  </thead>\n",
              "  <tbody>\n",
              "    <tr>\n",
              "      <th>0</th>\n",
              "      <td>0</td>\n",
              "      <td>tt2388771</td>\n",
              "      <td>Mowgli</td>\n",
              "      <td>2018</td>\n",
              "      <td>6.6</td>\n",
              "      <td>21967</td>\n",
              "    </tr>\n",
              "    <tr>\n",
              "      <th>1</th>\n",
              "      <td>1</td>\n",
              "      <td>tt5164214</td>\n",
              "      <td>Ocean's Eight</td>\n",
              "      <td>2018</td>\n",
              "      <td>6.2</td>\n",
              "      <td>110861</td>\n",
              "    </tr>\n",
              "    <tr>\n",
              "      <th>2</th>\n",
              "      <td>2</td>\n",
              "      <td>tt1365519</td>\n",
              "      <td>Tomb Raider</td>\n",
              "      <td>2018</td>\n",
              "      <td>6.4</td>\n",
              "      <td>142585</td>\n",
              "    </tr>\n",
              "    <tr>\n",
              "      <th>3</th>\n",
              "      <td>3</td>\n",
              "      <td>tt0848228</td>\n",
              "      <td>The Avengers</td>\n",
              "      <td>2012</td>\n",
              "      <td>8.1</td>\n",
              "      <td>1137529</td>\n",
              "    </tr>\n",
              "    <tr>\n",
              "      <th>4</th>\n",
              "      <td>4</td>\n",
              "      <td>tt8239946</td>\n",
              "      <td>Tumbbad</td>\n",
              "      <td>2018</td>\n",
              "      <td>8.5</td>\n",
              "      <td>7483</td>\n",
              "    </tr>\n",
              "    <tr>\n",
              "      <th>5</th>\n",
              "      <td>5</td>\n",
              "      <td>tt7027278</td>\n",
              "      <td>Kedarnath</td>\n",
              "      <td>2018</td>\n",
              "      <td>5.5</td>\n",
              "      <td>1970</td>\n",
              "    </tr>\n",
              "    <tr>\n",
              "      <th>6</th>\n",
              "      <td>6</td>\n",
              "      <td>tt3498820</td>\n",
              "      <td>Captain America: Civil War</td>\n",
              "      <td>2016</td>\n",
              "      <td>7.8</td>\n",
              "      <td>536641</td>\n",
              "    </tr>\n",
              "    <tr>\n",
              "      <th>7</th>\n",
              "      <td>7</td>\n",
              "      <td>tt8108198</td>\n",
              "      <td>Andhadhun</td>\n",
              "      <td>2018</td>\n",
              "      <td>9.0</td>\n",
              "      <td>18160</td>\n",
              "    </tr>\n",
              "    <tr>\n",
              "      <th>8</th>\n",
              "      <td>8</td>\n",
              "      <td>tt3741834</td>\n",
              "      <td>Lion</td>\n",
              "      <td>2016</td>\n",
              "      <td>8.1</td>\n",
              "      <td>170216</td>\n",
              "    </tr>\n",
              "    <tr>\n",
              "      <th>9</th>\n",
              "      <td>9</td>\n",
              "      <td>tt6747420</td>\n",
              "      <td>Rajma Chawal</td>\n",
              "      <td>2018</td>\n",
              "      <td>5.7</td>\n",
              "      <td>681</td>\n",
              "    </tr>\n",
              "  </tbody>\n",
              "</table>\n",
              "</div>"
            ],
            "text/plain": [
              "   index        MID                       title  year  rating  num_votes\n",
              "0      0  tt2388771                      Mowgli  2018     6.6      21967\n",
              "1      1  tt5164214               Ocean's Eight  2018     6.2     110861\n",
              "2      2  tt1365519                 Tomb Raider  2018     6.4     142585\n",
              "3      3  tt0848228                The Avengers  2012     8.1    1137529\n",
              "4      4  tt8239946                     Tumbbad  2018     8.5       7483\n",
              "5      5  tt7027278                   Kedarnath  2018     5.5       1970\n",
              "6      6  tt3498820  Captain America: Civil War  2016     7.8     536641\n",
              "7      7  tt8108198                   Andhadhun  2018     9.0      18160\n",
              "8      8  tt3741834                        Lion  2016     8.1     170216\n",
              "9      9  tt6747420                Rajma Chawal  2018     5.7        681"
            ]
          },
          "metadata": {
            "tags": []
          },
          "execution_count": 3
        }
      ]
    },
    {
      "cell_type": "markdown",
      "metadata": {
        "id": "9eINN2makaKL"
      },
      "source": [
        "1. List all the directors who directed a 'Comedy' movie in a leap year. (You need to check that\n",
        "the genre is 'Comedy’ and year is a leap year) Your query should return director name, the\n",
        "movie name, and the year."
      ]
    },
    {
      "cell_type": "code",
      "metadata": {
        "id": "-8Az4flbklDJ",
        "colab": {
          "base_uri": "https://localhost:8080/",
          "height": 419
        },
        "outputId": "a3e21cef-71b9-4b97-a1df-934d2467daf6"
      },
      "source": [
        "res = pd.read_sql_query(\n",
        "                        \"SELECT  \\\n",
        "                          DISTINCT TRIM(P.Name) As Director_Name\\\n",
        "                        ,M.title As Movie_Name \\\n",
        "                        ,M.year AS Year \\\n",
        "                        FROM M_GENRE AS M_G \\\n",
        "                        LEFT JOIN GENRE AS G \\\n",
        "                        ON M_G.GID = G.GID \\\n",
        "                        ,    Movie As M \\\n",
        "                        LEFT JOIN Person As P \\\n",
        "                        ,         M_Director As MD \\\n",
        "                        ON M.MID = MD.MID AND P.PID = MD.PID \\\n",
        "                        WHERE (Trim(M.year) %4 ==0) \\\n",
        "                        AND M.MID = M_G.MID AND Trim(G.NAME) LIKE '%COMEDY%' \", conn)\n",
        "res"
      ],
      "execution_count": null,
      "outputs": [
        {
          "output_type": "execute_result",
          "data": {
            "text/html": [
              "<div>\n",
              "<style scoped>\n",
              "    .dataframe tbody tr th:only-of-type {\n",
              "        vertical-align: middle;\n",
              "    }\n",
              "\n",
              "    .dataframe tbody tr th {\n",
              "        vertical-align: top;\n",
              "    }\n",
              "\n",
              "    .dataframe thead th {\n",
              "        text-align: right;\n",
              "    }\n",
              "</style>\n",
              "<table border=\"1\" class=\"dataframe\">\n",
              "  <thead>\n",
              "    <tr style=\"text-align: right;\">\n",
              "      <th></th>\n",
              "      <th>Director_Name</th>\n",
              "      <th>Movie_Name</th>\n",
              "      <th>Year</th>\n",
              "    </tr>\n",
              "  </thead>\n",
              "  <tbody>\n",
              "    <tr>\n",
              "      <th>0</th>\n",
              "      <td>Milap Zaveri</td>\n",
              "      <td>Mastizaade</td>\n",
              "      <td>2016</td>\n",
              "    </tr>\n",
              "    <tr>\n",
              "      <th>1</th>\n",
              "      <td>Danny Leiner</td>\n",
              "      <td>Harold &amp; Kumar Go to White Castle</td>\n",
              "      <td>2004</td>\n",
              "    </tr>\n",
              "    <tr>\n",
              "      <th>2</th>\n",
              "      <td>Anurag Kashyap</td>\n",
              "      <td>Gangs of Wasseypur</td>\n",
              "      <td>2012</td>\n",
              "    </tr>\n",
              "    <tr>\n",
              "      <th>3</th>\n",
              "      <td>Frank Coraci</td>\n",
              "      <td>Around the World in 80 Days</td>\n",
              "      <td>2004</td>\n",
              "    </tr>\n",
              "    <tr>\n",
              "      <th>4</th>\n",
              "      <td>Griffin Dunne</td>\n",
              "      <td>The Accidental Husband</td>\n",
              "      <td>2008</td>\n",
              "    </tr>\n",
              "    <tr>\n",
              "      <th>...</th>\n",
              "      <td>...</td>\n",
              "      <td>...</td>\n",
              "      <td>...</td>\n",
              "    </tr>\n",
              "    <tr>\n",
              "      <th>241</th>\n",
              "      <td>Siddharth Anand Kumar</td>\n",
              "      <td>Let's Enjoy</td>\n",
              "      <td>2004</td>\n",
              "    </tr>\n",
              "    <tr>\n",
              "      <th>242</th>\n",
              "      <td>Amma Rajasekhar</td>\n",
              "      <td>Sathyam</td>\n",
              "      <td>2008</td>\n",
              "    </tr>\n",
              "    <tr>\n",
              "      <th>243</th>\n",
              "      <td>Oliver Paulus</td>\n",
              "      <td>Tandoori Love</td>\n",
              "      <td>2008</td>\n",
              "    </tr>\n",
              "    <tr>\n",
              "      <th>244</th>\n",
              "      <td>Raja Chanda</td>\n",
              "      <td>Le Halua Le</td>\n",
              "      <td>2012</td>\n",
              "    </tr>\n",
              "    <tr>\n",
              "      <th>245</th>\n",
              "      <td>K.S. Prakash Rao</td>\n",
              "      <td>Raja Aur Rangeeli</td>\n",
              "      <td>1996</td>\n",
              "    </tr>\n",
              "  </tbody>\n",
              "</table>\n",
              "<p>246 rows × 3 columns</p>\n",
              "</div>"
            ],
            "text/plain": [
              "             Director_Name                         Movie_Name  Year\n",
              "0             Milap Zaveri                         Mastizaade  2016\n",
              "1             Danny Leiner  Harold & Kumar Go to White Castle  2004\n",
              "2           Anurag Kashyap                 Gangs of Wasseypur  2012\n",
              "3             Frank Coraci        Around the World in 80 Days  2004\n",
              "4            Griffin Dunne             The Accidental Husband  2008\n",
              "..                     ...                                ...   ...\n",
              "241  Siddharth Anand Kumar                        Let's Enjoy  2004\n",
              "242        Amma Rajasekhar                            Sathyam  2008\n",
              "243          Oliver Paulus                      Tandoori Love  2008\n",
              "244            Raja Chanda                        Le Halua Le  2012\n",
              "245       K.S. Prakash Rao                  Raja Aur Rangeeli  1996\n",
              "\n",
              "[246 rows x 3 columns]"
            ]
          },
          "metadata": {
            "tags": []
          },
          "execution_count": 4
        }
      ]
    },
    {
      "cell_type": "markdown",
      "metadata": {
        "id": "zeDEiH8C90EW"
      },
      "source": [
        "2. List the names of all the actors who played in the movie 'Anand' (1971)"
      ]
    },
    {
      "cell_type": "code",
      "metadata": {
        "id": "eVUnHOj999yE",
        "colab": {
          "base_uri": "https://localhost:8080/",
          "height": 576
        },
        "outputId": "3a462ef6-1915-465e-d7a6-ac36e2879f14"
      },
      "source": [
        "res1 = pd.read_sql_query(\n",
        "                        \"SELECT  \\\n",
        "                        P.Name As Actor_Name\\\n",
        "                        FROM Movie As M \\\n",
        "                        LEFT JOIN Person As P \\\n",
        "                        ,         M_Cast As C \\\n",
        "                        ON TRIM(M.MID) = TRIM(C.MID) \\\n",
        "                        AND TRIM(P.PID) = TRIM(C.PID) \\\n",
        "                        WHERE M.title LIKE 'Anand' \", conn)\n",
        "res1"
      ],
      "execution_count": null,
      "outputs": [
        {
          "output_type": "execute_result",
          "data": {
            "text/html": [
              "<div>\n",
              "<style scoped>\n",
              "    .dataframe tbody tr th:only-of-type {\n",
              "        vertical-align: middle;\n",
              "    }\n",
              "\n",
              "    .dataframe tbody tr th {\n",
              "        vertical-align: top;\n",
              "    }\n",
              "\n",
              "    .dataframe thead th {\n",
              "        text-align: right;\n",
              "    }\n",
              "</style>\n",
              "<table border=\"1\" class=\"dataframe\">\n",
              "  <thead>\n",
              "    <tr style=\"text-align: right;\">\n",
              "      <th></th>\n",
              "      <th>Actor_Name</th>\n",
              "    </tr>\n",
              "  </thead>\n",
              "  <tbody>\n",
              "    <tr>\n",
              "      <th>0</th>\n",
              "      <td>Amitabh Bachchan</td>\n",
              "    </tr>\n",
              "    <tr>\n",
              "      <th>1</th>\n",
              "      <td>Rajesh Khanna</td>\n",
              "    </tr>\n",
              "    <tr>\n",
              "      <th>2</th>\n",
              "      <td>Sumita Sanyal</td>\n",
              "    </tr>\n",
              "    <tr>\n",
              "      <th>3</th>\n",
              "      <td>Ramesh Deo</td>\n",
              "    </tr>\n",
              "    <tr>\n",
              "      <th>4</th>\n",
              "      <td>Seema Deo</td>\n",
              "    </tr>\n",
              "    <tr>\n",
              "      <th>5</th>\n",
              "      <td>Asit Kumar Sen</td>\n",
              "    </tr>\n",
              "    <tr>\n",
              "      <th>6</th>\n",
              "      <td>Dev Kishan</td>\n",
              "    </tr>\n",
              "    <tr>\n",
              "      <th>7</th>\n",
              "      <td>Atam Prakash</td>\n",
              "    </tr>\n",
              "    <tr>\n",
              "      <th>8</th>\n",
              "      <td>Lalita Kumari</td>\n",
              "    </tr>\n",
              "    <tr>\n",
              "      <th>9</th>\n",
              "      <td>Savita</td>\n",
              "    </tr>\n",
              "    <tr>\n",
              "      <th>10</th>\n",
              "      <td>Brahm Bhardwaj</td>\n",
              "    </tr>\n",
              "    <tr>\n",
              "      <th>11</th>\n",
              "      <td>Gurnam Singh</td>\n",
              "    </tr>\n",
              "    <tr>\n",
              "      <th>12</th>\n",
              "      <td>Lalita Pawar</td>\n",
              "    </tr>\n",
              "    <tr>\n",
              "      <th>13</th>\n",
              "      <td>Durga Khote</td>\n",
              "    </tr>\n",
              "    <tr>\n",
              "      <th>14</th>\n",
              "      <td>Dara Singh</td>\n",
              "    </tr>\n",
              "    <tr>\n",
              "      <th>15</th>\n",
              "      <td>Johnny Walker</td>\n",
              "    </tr>\n",
              "    <tr>\n",
              "      <th>16</th>\n",
              "      <td>Moolchand</td>\n",
              "    </tr>\n",
              "  </tbody>\n",
              "</table>\n",
              "</div>"
            ],
            "text/plain": [
              "           Actor_Name\n",
              "0    Amitabh Bachchan\n",
              "1       Rajesh Khanna\n",
              "2       Sumita Sanyal\n",
              "3          Ramesh Deo\n",
              "4           Seema Deo\n",
              "5      Asit Kumar Sen\n",
              "6          Dev Kishan\n",
              "7        Atam Prakash\n",
              "8       Lalita Kumari\n",
              "9              Savita\n",
              "10     Brahm Bhardwaj\n",
              "11       Gurnam Singh\n",
              "12       Lalita Pawar\n",
              "13        Durga Khote\n",
              "14         Dara Singh\n",
              "15      Johnny Walker\n",
              "16          Moolchand"
            ]
          },
          "metadata": {
            "tags": []
          },
          "execution_count": 5
        }
      ]
    },
    {
      "cell_type": "markdown",
      "metadata": {
        "id": "XA8ISdr2B83b"
      },
      "source": [
        "3. List all the actors who acted in a film before 1970 and in a film after 1990. (That is: < 1970\n",
        "and > 1990.)"
      ]
    },
    {
      "cell_type": "code",
      "metadata": {
        "id": "9c5OFcFb5O-Q"
      },
      "source": [
        "#updated as suggested\n",
        "\n",
        "Actors_1970_1990 = pd.read_sql_query(\"\"\"\n",
        "\n",
        "                                    WITH\n",
        "                                    \n",
        "                                    Actors_Before_1970 AS\n",
        "                                    (SELECT DISTINCT TRIM(MC.PID) PID\n",
        "                                    FROM MOVIE M\n",
        "                                    JOIN M_CAST MC ON M.MID = MC.MID\n",
        "                                    WHERE CAST(SUBSTR(M.year,-4) AS UNASSIGNED) < 1970),\n",
        "                                    \n",
        "                                    Actors_After_1990 AS\n",
        "                                    (SELECT DISTINCT TRIM(MC.PID) PID\n",
        "                                    FROM MOVIE M\n",
        "                                    JOIN M_CAST MC ON M.MID = MC.MID\n",
        "                                    WHERE CAST(SUBSTR(M.year,-4) AS UNASSIGNED) > 1990),\n",
        "                                    \n",
        "                                    ACTORS AS\n",
        "                                    (SELECT A_1970.PID PID\n",
        "                                    FROM Actors_Before_1970 A_1970\n",
        "                                    JOIN Actors_After_1990 A_1990 ON A_1970.PID = A_1990.PID)\n",
        "                                    \n",
        "                                    SELECT DISTINCT TRIM(P.NAME) Actors_Before_1970_After_1990\n",
        "                                    FROM PERSON P\n",
        "                                    JOIN ACTORS A ON A.PID = TRIM(P.PID)\n",
        "                                    \n",
        "                                    \"\"\", conn)"
      ],
      "execution_count": null,
      "outputs": []
    },
    {
      "cell_type": "code",
      "metadata": {
        "id": "_QI1I0nQ5deV",
        "colab": {
          "base_uri": "https://localhost:8080/",
          "height": 323
        },
        "outputId": "b809486f-c981-4ddf-954a-6bfd63f0984f"
      },
      "source": [
        "print(\"\\nActors who worked in movies before 1970 and after 1990:\")\n",
        "print('-'*55, '\\n')\n",
        "print(Actors_1970_1990)"
      ],
      "execution_count": null,
      "outputs": [
        {
          "output_type": "stream",
          "text": [
            "\n",
            "Actors who worked in movies before 1970 and after 1990:\n",
            "------------------------------------------------------- \n",
            "\n",
            "    Actors_Before_1970_After_1990\n",
            "0                    Rishi Kapoor\n",
            "1                Amitabh Bachchan\n",
            "2                          Asrani\n",
            "3                    Zohra Sehgal\n",
            "4                 Parikshat Sahni\n",
            "..                            ...\n",
            "295                        Poonam\n",
            "296                 Jamila Massey\n",
            "297                   K.R. Vijaya\n",
            "298                         Sethi\n",
            "299                  Suryakantham\n",
            "\n",
            "[300 rows x 1 columns]\n"
          ],
          "name": "stdout"
        }
      ]
    },
    {
      "cell_type": "markdown",
      "metadata": {
        "id": "zxRslMgzCqSr"
      },
      "source": [
        "4. List all directors who directed 10 movies or more, in descending order of the number of\n",
        "movies they directed. Return the directors' names and the number of movies each of them\n",
        "directed."
      ]
    },
    {
      "cell_type": "code",
      "metadata": {
        "id": "JIfKkKU0DaHG",
        "colab": {
          "base_uri": "https://localhost:8080/",
          "height": 415
        },
        "outputId": "2b3bc5c8-23cc-4d57-b1dc-d92eb96002f6"
      },
      "source": [
        "res = pd.read_sql_query(\n",
        "                        \"SELECT  \\\n",
        "                              TRIM(P.Name)       As Director_Name \\\n",
        "                              ,COUNT(M.MID)       As Movie_COUNT \\\n",
        "                        FROM Movie As M \\\n",
        "                        LEFT JOIN Person As P \\\n",
        "                        ,         M_Director As MD \\\n",
        "                        ON M.MID = MD.MID \\\n",
        "                        AND P.PID = MD.PID \\\n",
        "                        GROUP BY TRIM(P.NAME) \\\n",
        "                        HAVING COUNT(M.MID) >= 10 \\\n",
        "                        ORDER BY COUNT(M.MID) DESC \", conn)\n",
        "res"
      ],
      "execution_count": null,
      "outputs": [
        {
          "output_type": "execute_result",
          "data": {
            "text/html": [
              "<div>\n",
              "<style scoped>\n",
              "    .dataframe tbody tr th:only-of-type {\n",
              "        vertical-align: middle;\n",
              "    }\n",
              "\n",
              "    .dataframe tbody tr th {\n",
              "        vertical-align: top;\n",
              "    }\n",
              "\n",
              "    .dataframe thead th {\n",
              "        text-align: right;\n",
              "    }\n",
              "</style>\n",
              "<table border=\"1\" class=\"dataframe\">\n",
              "  <thead>\n",
              "    <tr style=\"text-align: right;\">\n",
              "      <th></th>\n",
              "      <th>Director_Name</th>\n",
              "      <th>Movie_COUNT</th>\n",
              "    </tr>\n",
              "  </thead>\n",
              "  <tbody>\n",
              "    <tr>\n",
              "      <th>0</th>\n",
              "      <td>David Dhawan</td>\n",
              "      <td>78</td>\n",
              "    </tr>\n",
              "    <tr>\n",
              "      <th>1</th>\n",
              "      <td>Mahesh Bhatt</td>\n",
              "      <td>72</td>\n",
              "    </tr>\n",
              "    <tr>\n",
              "      <th>2</th>\n",
              "      <td>Ram Gopal Varma</td>\n",
              "      <td>60</td>\n",
              "    </tr>\n",
              "    <tr>\n",
              "      <th>3</th>\n",
              "      <td>Vikram Bhatt</td>\n",
              "      <td>58</td>\n",
              "    </tr>\n",
              "    <tr>\n",
              "      <th>4</th>\n",
              "      <td>Hrishikesh Mukherjee</td>\n",
              "      <td>54</td>\n",
              "    </tr>\n",
              "    <tr>\n",
              "      <th>...</th>\n",
              "      <td>...</td>\n",
              "      <td>...</td>\n",
              "    </tr>\n",
              "    <tr>\n",
              "      <th>151</th>\n",
              "      <td>Siddharth Anand</td>\n",
              "      <td>10</td>\n",
              "    </tr>\n",
              "    <tr>\n",
              "      <th>152</th>\n",
              "      <td>Subhash Kapoor</td>\n",
              "      <td>10</td>\n",
              "    </tr>\n",
              "    <tr>\n",
              "      <th>153</th>\n",
              "      <td>Subodh Mukherji</td>\n",
              "      <td>10</td>\n",
              "    </tr>\n",
              "    <tr>\n",
              "      <th>154</th>\n",
              "      <td>Sujoy Ghosh</td>\n",
              "      <td>10</td>\n",
              "    </tr>\n",
              "    <tr>\n",
              "      <th>155</th>\n",
              "      <td>Zoya Akhtar</td>\n",
              "      <td>10</td>\n",
              "    </tr>\n",
              "  </tbody>\n",
              "</table>\n",
              "<p>156 rows × 2 columns</p>\n",
              "</div>"
            ],
            "text/plain": [
              "            Director_Name  Movie_COUNT\n",
              "0            David Dhawan           78\n",
              "1            Mahesh Bhatt           72\n",
              "2         Ram Gopal Varma           60\n",
              "3            Vikram Bhatt           58\n",
              "4    Hrishikesh Mukherjee           54\n",
              "..                    ...          ...\n",
              "151       Siddharth Anand           10\n",
              "152        Subhash Kapoor           10\n",
              "153       Subodh Mukherji           10\n",
              "154           Sujoy Ghosh           10\n",
              "155           Zoya Akhtar           10\n",
              "\n",
              "[156 rows x 2 columns]"
            ]
          },
          "metadata": {
            "tags": []
          },
          "execution_count": 20
        }
      ]
    },
    {
      "cell_type": "markdown",
      "metadata": {
        "id": "e82Bj_I9IJx_"
      },
      "source": [
        "5.\n",
        "\n",
        "a. For each year, count the number of movies in that year that had only female actors.\n"
      ]
    },
    {
      "cell_type": "code",
      "metadata": {
        "id": "wV_C3F1-u8cw",
        "colab": {
          "base_uri": "https://localhost:8080/",
          "height": 173
        },
        "outputId": "8cf51a5f-93b3-4199-ec6a-7cb4763df97d"
      },
      "source": [
        "\n",
        "\n",
        "sql_query='''SELECT  distinct substr(year,-4) as 'Year', count(substr(year,-4)) AS 'No of Movies' FROM Movie m, M_Cast c, Person p \\\n",
        "                        where m.MID = c.MID \n",
        "                        and trim(c.PID) = p.PID \n",
        "                        and m.mid not in ( SELECT distinct m.mid FROM Movie m, M_Cast c, Person p \n",
        "                        where m.MID = c.MID \n",
        "                        and trim(c.PID) = p.PID \n",
        "                        and p.gender = 'Male'   )\n",
        "                        Group by substr(year,-4) ;   '''\n",
        "\n",
        "result = pd.read_sql_query( sql_query, conn)\n",
        "result\n"
      ],
      "execution_count": null,
      "outputs": [
        {
          "output_type": "execute_result",
          "data": {
            "text/html": [
              "<div>\n",
              "<style scoped>\n",
              "    .dataframe tbody tr th:only-of-type {\n",
              "        vertical-align: middle;\n",
              "    }\n",
              "\n",
              "    .dataframe tbody tr th {\n",
              "        vertical-align: top;\n",
              "    }\n",
              "\n",
              "    .dataframe thead th {\n",
              "        text-align: right;\n",
              "    }\n",
              "</style>\n",
              "<table border=\"1\" class=\"dataframe\">\n",
              "  <thead>\n",
              "    <tr style=\"text-align: right;\">\n",
              "      <th></th>\n",
              "      <th>Year</th>\n",
              "      <th>No of Movies</th>\n",
              "    </tr>\n",
              "  </thead>\n",
              "  <tbody>\n",
              "    <tr>\n",
              "      <th>0</th>\n",
              "      <td>1939</td>\n",
              "      <td>1</td>\n",
              "    </tr>\n",
              "    <tr>\n",
              "      <th>1</th>\n",
              "      <td>1999</td>\n",
              "      <td>11</td>\n",
              "    </tr>\n",
              "    <tr>\n",
              "      <th>2</th>\n",
              "      <td>2000</td>\n",
              "      <td>10</td>\n",
              "    </tr>\n",
              "    <tr>\n",
              "      <th>3</th>\n",
              "      <td>2018</td>\n",
              "      <td>3</td>\n",
              "    </tr>\n",
              "  </tbody>\n",
              "</table>\n",
              "</div>"
            ],
            "text/plain": [
              "   Year  No of Movies\n",
              "0  1939             1\n",
              "1  1999            11\n",
              "2  2000            10\n",
              "3  2018             3"
            ]
          },
          "metadata": {
            "tags": []
          },
          "execution_count": 10
        }
      ]
    },
    {
      "cell_type": "markdown",
      "metadata": {
        "id": "h1liYKgrIQjO"
      },
      "source": [
        "b. Now include a small change: report for each year the percentage of movies in that\n",
        "year with only female actors, and the total number of movies made that year. For\n",
        "example, one answer will be: 1990 31.81 13522 meaning that in 1990 there were\n",
        "13,522 movies, and 31.81% had only female actors. You do not need to round your\n",
        "\n",
        "answer"
      ]
    },
    {
      "cell_type": "code",
      "metadata": {
        "id": "BVGDSwL_vmbP",
        "colab": {
          "base_uri": "https://localhost:8080/",
          "height": 173
        },
        "outputId": "9e4013d4-9325-4413-9ea5-e525d8162ef5"
      },
      "source": [
        "sql_query='''Select distinct m.year as 'Year',m.TMovies as 'Total Movies', ((a.FMovies * 100.00) / m.TMovies) as '%age of Female Movies'\n",
        "                from  (SELECT substr(m.year,-4) as 'Year', count(m.year) AS 'TMovies' FROM Movie m, M_Cast c, Person p \\\n",
        "                        where m.MID = c.MID \\\n",
        "                        and trim(c.PID) = p.PID \\\n",
        "                        Group by substr(m.year,-4)) m\\\n",
        "                Join ( SELECT  distinct substr(m.year,-4) as 'Year', count(substr(year,-4)) AS 'FMovies' FROM Movie m, M_Cast c, Person p \\\n",
        "                        where m.MID = c.MID \n",
        "                        and trim(c.PID) = p.PID \n",
        "                        and m.mid not in ( SELECT distinct m.mid FROM Movie m, M_Cast c, Person p \n",
        "                        where m.MID = c.MID \n",
        "                        and trim(c.PID) = p.PID \n",
        "                        and p.gender = 'Male'   )\n",
        "                        Group by substr(m.year,-4)) a on m.year=a.year\n",
        "                        \n",
        "                group by m.year;   '''\n",
        "\n",
        "result = pd.read_sql_query( sql_query, conn)\n",
        "result\n"
      ],
      "execution_count": null,
      "outputs": [
        {
          "output_type": "execute_result",
          "data": {
            "text/html": [
              "<div>\n",
              "<style scoped>\n",
              "    .dataframe tbody tr th:only-of-type {\n",
              "        vertical-align: middle;\n",
              "    }\n",
              "\n",
              "    .dataframe tbody tr th {\n",
              "        vertical-align: top;\n",
              "    }\n",
              "\n",
              "    .dataframe thead th {\n",
              "        text-align: right;\n",
              "    }\n",
              "</style>\n",
              "<table border=\"1\" class=\"dataframe\">\n",
              "  <thead>\n",
              "    <tr style=\"text-align: right;\">\n",
              "      <th></th>\n",
              "      <th>Year</th>\n",
              "      <th>Total Movies</th>\n",
              "      <th>%age of Female Movies</th>\n",
              "    </tr>\n",
              "  </thead>\n",
              "  <tbody>\n",
              "    <tr>\n",
              "      <th>0</th>\n",
              "      <td>1939</td>\n",
              "      <td>45</td>\n",
              "      <td>2.222222</td>\n",
              "    </tr>\n",
              "    <tr>\n",
              "      <th>1</th>\n",
              "      <td>1999</td>\n",
              "      <td>1628</td>\n",
              "      <td>0.675676</td>\n",
              "    </tr>\n",
              "    <tr>\n",
              "      <th>2</th>\n",
              "      <td>2000</td>\n",
              "      <td>1480</td>\n",
              "      <td>0.675676</td>\n",
              "    </tr>\n",
              "    <tr>\n",
              "      <th>3</th>\n",
              "      <td>2018</td>\n",
              "      <td>2942</td>\n",
              "      <td>0.101971</td>\n",
              "    </tr>\n",
              "  </tbody>\n",
              "</table>\n",
              "</div>"
            ],
            "text/plain": [
              "   Year  Total Movies  %age of Female Movies\n",
              "0  1939            45               2.222222\n",
              "1  1999          1628               0.675676\n",
              "2  2000          1480               0.675676\n",
              "3  2018          2942               0.101971"
            ]
          },
          "metadata": {
            "tags": []
          },
          "execution_count": 11
        }
      ]
    },
    {
      "cell_type": "markdown",
      "metadata": {
        "id": "kgVihKHux6hl"
      },
      "source": [
        "6. Find the film(s) with the largest cast. Return the movie title and the size of the cast. By \"cast\n",
        "size\" we mean the number of distinct actors that played in that movie: if an actor played\n",
        "multiple roles, or if it simply occurs multiple times in casts, we still count her/him only\n",
        "once."
      ]
    },
    {
      "cell_type": "code",
      "metadata": {
        "id": "RPcCqkeHyK6W",
        "colab": {
          "base_uri": "https://localhost:8080/",
          "height": 79
        },
        "outputId": "da784f31-9d0f-4f20-a052-b86ec1f0ff27"
      },
      "source": [
        "res1 = pd.read_sql_query(\"SELECT\\\n",
        "                            J1.MOVIE_TITLE \\\n",
        "                            ,MAX(J1.CAST_SIZE) AS CAST_SIZE \\\n",
        "                            FROM \\\n",
        "                            (SELECT  \\\n",
        "                            COUNT(DISTINCT C.PID) As CAST_SIZE \\\n",
        "                            ,TRIM(M.TITLE) AS MOVIE_TITLE \\\n",
        "                            FROM Movie As M \\\n",
        "                            LEFT JOIN M_Cast As C \\\n",
        "                            ON M.MID = C.MID \\\n",
        "                            GROUP BY TRIM(M.TITLE) ) J1\\\n",
        "     \", conn)\n",
        "res1"
      ],
      "execution_count": null,
      "outputs": [
        {
          "output_type": "execute_result",
          "data": {
            "text/html": [
              "<div>\n",
              "<style scoped>\n",
              "    .dataframe tbody tr th:only-of-type {\n",
              "        vertical-align: middle;\n",
              "    }\n",
              "\n",
              "    .dataframe tbody tr th {\n",
              "        vertical-align: top;\n",
              "    }\n",
              "\n",
              "    .dataframe thead th {\n",
              "        text-align: right;\n",
              "    }\n",
              "</style>\n",
              "<table border=\"1\" class=\"dataframe\">\n",
              "  <thead>\n",
              "    <tr style=\"text-align: right;\">\n",
              "      <th></th>\n",
              "      <th>MOVIE_TITLE</th>\n",
              "      <th>CAST_SIZE</th>\n",
              "    </tr>\n",
              "  </thead>\n",
              "  <tbody>\n",
              "    <tr>\n",
              "      <th>0</th>\n",
              "      <td>Ocean's Eight</td>\n",
              "      <td>238</td>\n",
              "    </tr>\n",
              "  </tbody>\n",
              "</table>\n",
              "</div>"
            ],
            "text/plain": [
              "     MOVIE_TITLE  CAST_SIZE\n",
              "0  Ocean's Eight        238"
            ]
          },
          "metadata": {
            "tags": []
          },
          "execution_count": 17
        }
      ]
    },
    {
      "cell_type": "markdown",
      "metadata": {
        "id": "MnND51vRyL8d"
      },
      "source": [
        "7. A decade is a sequence of 10 consecutive years. For example, say in your database you have\n",
        "movie information starting from 1965. Then the first decade is 1965, 1966, ..., 1974; the\n",
        "second one is 1967, 1968, ..., 1976 and so on. Find the decade D with the largest number of\n",
        "films and the total number of films in D."
      ]
    },
    {
      "cell_type": "code",
      "metadata": {
        "id": "eQA9rw3zzny8"
      },
      "source": [
        "Decade_More_Movies = pd.read_sql_query(\"\"\"\n",
        "\n",
        "\n",
        "                                        WITH \n",
        "            \n",
        "                                        YEARS_UNIQUE AS\n",
        "                                       (SELECT DISTINCT\n",
        "                                        CAST(SUBSTR(year,-4) AS UNSIGNED) YEAR,\n",
        "                                        CAST(SUBSTR(year,-4) AS UNSIGNED) DECADE_START,\n",
        "                                        CAST(SUBSTR(year,-4) AS UNSIGNED) + 9 DECADE_END,\n",
        "                                        'Decade of : ' || SUBSTR(year,-4) DECADE\n",
        "                                        FROM MOVIE),\n",
        "    \n",
        "                                        MOVIE_COUNT_YEARS AS\n",
        "                                       (SELECT COUNT(DISTINCT MID) Movie_Count, CAST(SUBSTR(year,-4) AS UNSIGNED) Year\n",
        "                                        FROM MOVIE\n",
        "                                        GROUP BY CAST(SUBSTR(year,-4) AS UNSIGNED)),\n",
        "    \n",
        "                                        MOVIE_COUNT_DECADE AS \n",
        "                                       (SELECT SUM(Movie_Count) Total_Movies, YU.DECADE\n",
        "                                        FROM MOVIE_COUNT_YEARS MCY, YEARS_UNIQUE YU\n",
        "                                        WHERE MCY.YEAR BETWEEN YU.DECADE_START AND YU.DECADE_END\n",
        "                                        GROUP BY YU.DECADE)\n",
        "    \n",
        "                                        SELECT Decade, Total_Movies\n",
        "                                        FROM MOVIE_COUNT_DECADE\n",
        "                                        WHERE Total_Movies = (SELECT MAX(Total_Movies)\n",
        "                                        FROM MOVIE_COUNT_DECADE)\n",
        "                                        \n",
        "                                        \"\"\", conn)"
      ],
      "execution_count": null,
      "outputs": []
    },
    {
      "cell_type": "code",
      "metadata": {
        "id": "LpoqXVFNyQEH",
        "colab": {
          "base_uri": "https://localhost:8080/",
          "height": 119
        },
        "outputId": "7f3a40c8-c39e-485b-a66d-6912e8fb7e4d"
      },
      "source": [
        "print(\"\\nMore movies in decade:\")\n",
        "print('-'*22, '\\n')\n",
        "print(Decade_More_Movies)"
      ],
      "execution_count": null,
      "outputs": [
        {
          "output_type": "stream",
          "text": [
            "\n",
            "More movies in decade:\n",
            "---------------------- \n",
            "\n",
            "             DECADE  Total_Movies\n",
            "0  Decade of : 2008          1205\n"
          ],
          "name": "stdout"
        }
      ]
    },
    {
      "cell_type": "markdown",
      "metadata": {
        "id": "OaFe1x72yRBh"
      },
      "source": [
        "8. Find the actors that were never unemployed for more than 3 years at a stretch. (Assume\n",
        "that the actors remain unemployed between two consecutive movies).\n"
      ]
    },
    {
      "cell_type": "code",
      "metadata": {
        "id": "MCgilW5FyXeM"
      },
      "source": [
        "Actors_Never_Unemployed_More_3 = pd.read_sql_query(\"\"\"\n",
        "\n",
        "                        WITH\n",
        "    \n",
        "                        ACTORS_MOVIE_YEAR AS\n",
        "                        (SELECT TRIM(MC.PID) PID, CAST(SUBSTR(year,-4) AS UNASSIGNED) Year,\n",
        "                        COUNT(DISTINCT TRIM(M.MID)) Number_of_Mov\n",
        "                        FROM M_CAST MC, MOVIE M\n",
        "                        WHERE TRIM(MC.MID) = TRIM(M.MID) \n",
        "                        GROUP BY TRIM(MC.PID), CAST(SUBSTR(year,-4) AS UNASSIGNED)\n",
        "                        ORDER BY NUMBER_OF_MOV DESC),\n",
        "    \n",
        "                        ACTORS_MORE_THAN_YEAR AS\n",
        "                        (SELECT AMY.PID, COUNT(AMY.YEAR) AS Number_of_Years, MIN(AMY.YEAR) AS Min_Year,\n",
        "                        MAX(AMY.YEAR) AS Max_Year\n",
        "                        FROM ACTORS_MOVIE_YEAR AMY\n",
        "                        GROUP BY AMY.PID\n",
        "                        HAVING COUNT(AMY.YEAR) > 1),\n",
        "    \n",
        "                        ACTORS_NUMBER_MORE_THAN_YEAR AS\n",
        "                        (SELECT AMY.PID, AMY.YEAR, AMY.YEAR+4 AS Year_4, AMY.NUMBER_OF_MOV,\n",
        "                        ATY.MIN_YEAR, ATY.MAX_YEAR\n",
        "                        FROM ACTORS_MOVIE_YEAR AMY, ACTORS_MORE_THAN_YEAR ATY\n",
        "                        WHERE AMY.PID = ATY.PID),\n",
        "    \n",
        "                        NUMBER_MOVIE_PRESENT AS\n",
        "                        (SELECT AM.PID, NY.YEAR, SUM(AM.NUMBER_OF_MOV) AS NUMBER_OF_MOVIE_PRESENT\n",
        "                        FROM ACTORS_NUMBER_MORE_THAN_YEAR AM, ACTORS_NUMBER_MORE_THAN_YEAR NY\n",
        "                        WHERE AM.PID = NY.PID AND\n",
        "                        AM.YEAR BETWEEN NY.MIN_YEAR AND NY.YEAR\n",
        "                        GROUP BY AM.PID, NY.YEAR),\n",
        "    \n",
        "                        ACTOR_MOVIE_4_YEAR AS\n",
        "                        (SELECT AM.PID, NY.YEAR, SUM(AM.NUMBER_OF_MOV) AS ACTOR_MOVIE_4_YEARS_PRESENT\n",
        "                        FROM ACTORS_NUMBER_MORE_THAN_YEAR AM, ACTORS_NUMBER_MORE_THAN_YEAR NY\n",
        "                        WHERE AM.PID = NY.PID AND\n",
        "                        AM.YEAR BETWEEN NY.MIN_YEAR AND NY.YEAR_4 AND\n",
        "                        NY.YEAR_4 <= NY.MAX_YEAR\n",
        "                        GROUP BY AM.PID, NY.YEAR)\n",
        "    \n",
        "                        SELECT DISTINCT TRIM(P.NAME) AS ACTORS_NEVER_UNEMPLOYED_MORE_THAN_3_YEARS\n",
        "                        FROM PERSON P\n",
        "                        WHERE TRIM(P.PID) NOT IN (SELECT DISTINCT NMP.PID\n",
        "                        FROM NUMBER_MOVIE_PRESENT NMP, ACTOR_MOVIE_4_YEAR AM_4\n",
        "                        WHERE NMP.PID = AM_4.PID AND\n",
        "                        NMP.YEAR = AM_4.YEAR AND\n",
        "                        NMP.NUMBER_OF_MOVIE_PRESENT = AM_4.ACTOR_MOVIE_4_YEARS_PRESENT)\n",
        "                        \n",
        "                        \n",
        "                        \"\"\", conn)"
      ],
      "execution_count": null,
      "outputs": []
    },
    {
      "cell_type": "code",
      "metadata": {
        "id": "sF8a8iJuC6XD",
        "colab": {
          "base_uri": "https://localhost:8080/",
          "height": 323
        },
        "outputId": "0a733e25-8da3-4249-ee57-43107041f73e"
      },
      "source": [
        "print(\"\\nActors who were never unemployed for more than 3 years at stretch:\")\n",
        "print('-'*70, '\\n')\n",
        "print(Actors_Never_Unemployed_More_3)"
      ],
      "execution_count": null,
      "outputs": [
        {
          "output_type": "stream",
          "text": [
            "\n",
            "Actors who were never unemployed for more than 3 years at stretch:\n",
            "---------------------------------------------------------------------- \n",
            "\n",
            "      ACTORS_NEVER_UNEMPLOYED_MORE_THAN_3_YEARS\n",
            "0                                Christian Bale\n",
            "1                                Cate Blanchett\n",
            "2                          Benedict Cumberbatch\n",
            "3                                 Naomie Harris\n",
            "4                                   Andy Serkis\n",
            "...                                         ...\n",
            "32580                            Deepak Ramteke\n",
            "32581                              Kamika Verma\n",
            "32582                        Dhorairaj Bhagavan\n",
            "32583                              Nasir Shaikh\n",
            "32584                              Adrian Fulle\n",
            "\n",
            "[32585 rows x 1 columns]\n"
          ],
          "name": "stdout"
        }
      ]
    },
    {
      "cell_type": "markdown",
      "metadata": {
        "id": "oc-28zjWyYML"
      },
      "source": [
        "9. Find all the actors that made more movies with Yash Chopra than any other director."
      ]
    },
    {
      "cell_type": "code",
      "metadata": {
        "id": "My6AWmFQuL4d",
        "colab": {
          "base_uri": "https://localhost:8080/",
          "height": 415
        },
        "outputId": "074c083c-e4d3-474e-cc93-c6a97df0ab3d"
      },
      "source": [
        "res1 = pd.read_sql_query(\n",
        "            \"SELECT DISTINCT T1.ACTOR_NAME FROM \\\n",
        "                              (SELECT P1.NAME AS ACTOR_NAME \\\n",
        "                              ,COUNT(M.MID) AS MOVIE_COUNT_Y \\\n",
        "                              ,P1.PID AS PID \\\n",
        "                              FROM Movie As M \\\n",
        "                              LEFT JOIN Person As P1 \\\n",
        "                              ,         Person As P2 \\\n",
        "                              ,         M_Cast As C \\\n",
        "                              ,         M_Director MD \\\n",
        "                              ON  M.MID = C.MID \\\n",
        "                              AND P1.PID = TRIM(C.PID) \\\n",
        "                              AND M.MID = MD.MID \\\n",
        "                              AND P2.PID = MD.PID \\\n",
        "                              WHERE  TRIM(P2.NAME) LIKE 'Yash Chopra' \\\n",
        "                              GROUP BY TRIM(P1.Name), P1.PID \\\n",
        "                              ) T1 \\\n",
        "                      JOIN \\\n",
        "                            (SELECT P1.NAME AS ACTOR_NAME \\\n",
        "                              ,P2.NAME AS DIRECTOR_NAME \\\n",
        "                              ,COUNT(M.MID) AS MOVIE_COUNT \\\n",
        "                              ,P1.PID AS PID \\\n",
        "                              FROM Movie As M \\\n",
        "                              LEFT JOIN Person As P1 \\\n",
        "                              ,         Person As P2 \\\n",
        "                              ,         M_Cast As C \\\n",
        "                              ,         M_Director MD \\\n",
        "                              ON  M.MID = C.MID \\\n",
        "                              AND P1.PID = TRIM(C.PID) \\\n",
        "                              AND M.MID = MD.MID \\\n",
        "                              AND P2.PID = MD.PID \\\n",
        "                              WHERE  TRIM(P2.NAME) NOT LIKE 'Yash Chopra' \\\n",
        "                              GROUP BY P1.Name, P2.Name, P1.PID \\\n",
        "                            ) T2 \\\n",
        "            ON T1.PID = T2.PID \\\n",
        "            AND T1.MOVIE_COUNT_Y  > T2.MOVIE_COUNT    \", conn)\n",
        "res1"
      ],
      "execution_count": null,
      "outputs": [
        {
          "output_type": "execute_result",
          "data": {
            "text/html": [
              "<div>\n",
              "<style scoped>\n",
              "    .dataframe tbody tr th:only-of-type {\n",
              "        vertical-align: middle;\n",
              "    }\n",
              "\n",
              "    .dataframe tbody tr th {\n",
              "        vertical-align: top;\n",
              "    }\n",
              "\n",
              "    .dataframe thead th {\n",
              "        text-align: right;\n",
              "    }\n",
              "</style>\n",
              "<table border=\"1\" class=\"dataframe\">\n",
              "  <thead>\n",
              "    <tr style=\"text-align: right;\">\n",
              "      <th></th>\n",
              "      <th>ACTOR_NAME</th>\n",
              "    </tr>\n",
              "  </thead>\n",
              "  <tbody>\n",
              "    <tr>\n",
              "      <th>0</th>\n",
              "      <td>A.K. Hangal</td>\n",
              "    </tr>\n",
              "    <tr>\n",
              "      <th>1</th>\n",
              "      <td>Aamir Khan</td>\n",
              "    </tr>\n",
              "    <tr>\n",
              "      <th>2</th>\n",
              "      <td>Achala Sachdev</td>\n",
              "    </tr>\n",
              "    <tr>\n",
              "      <th>3</th>\n",
              "      <td>Ajit</td>\n",
              "    </tr>\n",
              "    <tr>\n",
              "      <th>4</th>\n",
              "      <td>Akhilendra Mishra</td>\n",
              "    </tr>\n",
              "    <tr>\n",
              "      <th>...</th>\n",
              "      <td>...</td>\n",
              "    </tr>\n",
              "    <tr>\n",
              "      <th>335</th>\n",
              "      <td>Waheeda Rehman</td>\n",
              "    </tr>\n",
              "    <tr>\n",
              "      <th>336</th>\n",
              "      <td>Yash Chopra</td>\n",
              "    </tr>\n",
              "    <tr>\n",
              "      <th>337</th>\n",
              "      <td>Yashodra Katju</td>\n",
              "    </tr>\n",
              "    <tr>\n",
              "      <th>338</th>\n",
              "      <td>Yunus Parvez</td>\n",
              "    </tr>\n",
              "    <tr>\n",
              "      <th>339</th>\n",
              "      <td>Zohra Sehgal</td>\n",
              "    </tr>\n",
              "  </tbody>\n",
              "</table>\n",
              "<p>340 rows × 1 columns</p>\n",
              "</div>"
            ],
            "text/plain": [
              "             ACTOR_NAME\n",
              "0           A.K. Hangal\n",
              "1            Aamir Khan\n",
              "2        Achala Sachdev\n",
              "3                  Ajit\n",
              "4     Akhilendra Mishra\n",
              "..                  ...\n",
              "335      Waheeda Rehman\n",
              "336         Yash Chopra\n",
              "337      Yashodra Katju\n",
              "338        Yunus Parvez\n",
              "339        Zohra Sehgal\n",
              "\n",
              "[340 rows x 1 columns]"
            ]
          },
          "metadata": {
            "tags": []
          },
          "execution_count": 11
        }
      ]
    },
    {
      "cell_type": "markdown",
      "metadata": {
        "id": "pGLtkJeJyfdX"
      },
      "source": [
        "10. The Shahrukh number of an actor is the length of the shortest path between the actor and\n",
        "Shahrukh Khan in the \"co-acting\" graph. That is, Shahrukh Khan has Shahrukh number 0; all\n",
        "actors who acted in the same film as Shahrukh have Shahrukh number 1; all actors who\n",
        "acted in the same film as some actor with Shahrukh number 1 have Shahrukh number 2, etc.\n",
        "Return all actors whose Shahrukh number is 2."
      ]
    },
    {
      "cell_type": "code",
      "metadata": {
        "id": "7ovXg6Vfji3V",
        "colab": {
          "base_uri": "https://localhost:8080/",
          "height": 415
        },
        "outputId": "9e9fcbc7-9633-47d0-c345-ed1b6ca2a120"
      },
      "source": [
        "res1 = pd.read_sql_query(\"\\\n",
        "                          SELECT DISTINCT P1.NAME \\\n",
        "                          FROM MOVIE AS M1 \\\n",
        "                          LEFT JOIN Person As P1 \\\n",
        "                          ,         M_Cast As C1 \\\n",
        "                          ON  M1.MID = C1.MID \\\n",
        "                          AND P1.PID = TRIM(C1.PID) \\\n",
        "                          AND M1.MID IN(\\\n",
        "                                        SELECT DISTINCT M1.MID \\\n",
        "                                        FROM MOVIE AS M1 \\\n",
        "                                        LEFT JOIN Person As P1 \\\n",
        "                                        ,         M_Cast As C1 \\\n",
        "                                        ON  M1.MID = C1.MID \\\n",
        "                                        AND P1.PID = TRIM(C1.PID) \\\n",
        "                                        AND P1.PID IN\\\n",
        "                                                      (\\\n",
        "                                                      SELECT DISTINCT P1.PID \\\n",
        "                                                      FROM MOVIE AS M1 \\\n",
        "                                                      LEFT JOIN Person As P1 \\\n",
        "                                                      ,         M_Cast As C1 \\\n",
        "                                                      ON  M1.MID = C1.MID \\\n",
        "                                                      AND P1.PID = TRIM(C1.PID) \\\n",
        "                                                      AND P1.PID NOT IN('nm0451321')\\\n",
        "                                                      WHERE M1.MID IN (\\\n",
        "                                                                      SELECT DISTINCT M1.MID \\\n",
        "                                                                      FROM MOVIE AS M1 \\\n",
        "                                                                      LEFT JOIN Person As P1 \\\n",
        "                                                                      ,         M_Cast As C1 \\\n",
        "                                                                      ON  M1.MID = C1.MID \\\n",
        "                                                                      AND P1.PID = TRIM(C1.PID)\\\n",
        "                                                                      WHERE TRIM(P1.NAME) LIKE '%Shah Rukh Khan%' \\\n",
        "                                                                        )\\\n",
        "                                                      )\\\n",
        "                                  )\\\n",
        "                                          \", conn)\n",
        "res1"
      ],
      "execution_count": null,
      "outputs": [
        {
          "output_type": "execute_result",
          "data": {
            "text/html": [
              "<div>\n",
              "<style scoped>\n",
              "    .dataframe tbody tr th:only-of-type {\n",
              "        vertical-align: middle;\n",
              "    }\n",
              "\n",
              "    .dataframe tbody tr th {\n",
              "        vertical-align: top;\n",
              "    }\n",
              "\n",
              "    .dataframe thead th {\n",
              "        text-align: right;\n",
              "    }\n",
              "</style>\n",
              "<table border=\"1\" class=\"dataframe\">\n",
              "  <thead>\n",
              "    <tr style=\"text-align: right;\">\n",
              "      <th></th>\n",
              "      <th>Name</th>\n",
              "    </tr>\n",
              "  </thead>\n",
              "  <tbody>\n",
              "    <tr>\n",
              "      <th>0</th>\n",
              "      <td>Alicia Vikander</td>\n",
              "    </tr>\n",
              "    <tr>\n",
              "      <th>1</th>\n",
              "      <td>Dominic West</td>\n",
              "    </tr>\n",
              "    <tr>\n",
              "      <th>2</th>\n",
              "      <td>Walton Goggins</td>\n",
              "    </tr>\n",
              "    <tr>\n",
              "      <th>3</th>\n",
              "      <td>Daniel Wu</td>\n",
              "    </tr>\n",
              "    <tr>\n",
              "      <th>4</th>\n",
              "      <td>Kristin Scott Thomas</td>\n",
              "    </tr>\n",
              "    <tr>\n",
              "      <th>...</th>\n",
              "      <td>...</td>\n",
              "    </tr>\n",
              "    <tr>\n",
              "      <th>26877</th>\n",
              "      <td>Minoo Mehtab</td>\n",
              "    </tr>\n",
              "    <tr>\n",
              "      <th>26878</th>\n",
              "      <td>Hayley Cleghorn</td>\n",
              "    </tr>\n",
              "    <tr>\n",
              "      <th>26879</th>\n",
              "      <td>Nirvasha Jithoo</td>\n",
              "    </tr>\n",
              "    <tr>\n",
              "      <th>26880</th>\n",
              "      <td>Kamal Maharshi</td>\n",
              "    </tr>\n",
              "    <tr>\n",
              "      <th>26881</th>\n",
              "      <td>Mohini Manik</td>\n",
              "    </tr>\n",
              "  </tbody>\n",
              "</table>\n",
              "<p>26882 rows × 1 columns</p>\n",
              "</div>"
            ],
            "text/plain": [
              "                        Name\n",
              "0            Alicia Vikander\n",
              "1               Dominic West\n",
              "2             Walton Goggins\n",
              "3                  Daniel Wu\n",
              "4       Kristin Scott Thomas\n",
              "...                      ...\n",
              "26877           Minoo Mehtab\n",
              "26878        Hayley Cleghorn\n",
              "26879        Nirvasha Jithoo\n",
              "26880         Kamal Maharshi\n",
              "26881           Mohini Manik\n",
              "\n",
              "[26882 rows x 1 columns]"
            ]
          },
          "metadata": {
            "tags": []
          },
          "execution_count": 5
        }
      ]
    },
    {
      "cell_type": "code",
      "metadata": {
        "id": "tRlckfFgGWGa"
      },
      "source": [
        "Source Links\n",
        "https://www.appliedaicourse.com/\n",
        "https://www.w3schools.com/sql/default.asp\n",
        "https://www.w3resource.com/sql-exercises/movie-database-exercise/joins-exercises-on-movie-database.php\n",
        "-"
      ],
      "execution_count": null,
      "outputs": []
    },
    {
      "cell_type": "code",
      "metadata": {
        "id": "9P1_NMnFLaQs"
      },
      "source": [
        "Query_9 = pd.read_sql_query('''SELECT Distinct P1.Name,P1.PID,Count(Distinct M1.MID) as Num_Movie_wid_YC FROM Person P1 \n",
        "                         Join M_Cast C on C.PID = P1.PID\n",
        "                         Join Movie M1 on M1.MID = C.MID\n",
        "                         Join M_Director D on D.MID = M1.MID\n",
        "                         Join Person P2 on D.PID = P2.PID \n",
        "                         Where P2.Name = 'Yash Chopra'\n",
        "                         Group By P1.PID\n",
        "                         Having Num_Movie_wid_YC >\n",
        "                         (Select  Count (Distinct M2.MID) From Movie M2\n",
        "                         Join M_Cast C2 on C2.MID = M2.MID\n",
        "                         Join Person P3 on C2.PID = P3.PID\n",
        "                         Join M_Director D2 on D2.MID = M2.MID\n",
        "                         Join Person P4 on D2.PID = P4.PID\n",
        "                         Where P3.PID = P1.PID and NOT P4.Name = 'Yash Chopra' \n",
        "                         Group By P3.PID,D2.PID)\n",
        "                         Order By Num_Movie_wid_YC DESC\n",
        "                         ''',conn)"
      ],
      "execution_count": null,
      "outputs": []
    },
    {
      "cell_type": "code",
      "metadata": {
        "id": "A7goN6vuNBjM"
      },
      "source": [
        "sql_query='''select distinct a.name from ( \n",
        "                                select distinct p.pid,p.name,d.pid, count(*) as 'Total' from Movie m,M_Cast c,Person p , M_Director d\n",
        "                                    where m.mid=c.mid\n",
        "                                    and m.mid=d.mid\n",
        "                                    and trim(c.pid)=p.pid\n",
        "                                    and d.pid not in ('nm0007181')\n",
        "                                    and p.pid in ( select distinct p.pid from Movie m,M_Cast c,Person p \n",
        "                                                where m.mid=c.mid\n",
        "                                                and trim(c.pid)=p.pid  \n",
        "                                                and m.mid in ( select m.mid from Movie m,M_Director d,Person p \n",
        "                                                                where m.mid=d.mid\n",
        "                                                                and trim(d.pid)=p.pid  \n",
        "                                                                and p.name like 'Yash%' )) group by p.pid,p.name,d.pid ) a \n",
        "                    \n",
        "                            join (select distinct p.pid,count(trim(p.pid)) as 'Yash' from Movie m,M_Cast c,Person p \n",
        "                                    where m.mid=c.mid\n",
        "                                    and trim(c.pid)=p.pid  \n",
        "                                    and m.mid in ( select m.mid from Movie m,M_Director d,Person p \n",
        "                                                    where m.mid=d.mid\n",
        "                                                    and trim(d.pid)=p.pid  \n",
        "                                                    and p.name like 'Yash%' )\n",
        "                                    group by p.pid) b on a.pid=b.pid\n",
        "                            where  b.Yash > a.Total \n",
        "                            '''\n"
      ],
      "execution_count": null,
      "outputs": []
    },
    {
      "cell_type": "code",
      "metadata": {
        "id": "a0pFqaKuNOJF",
        "colab": {
          "base_uri": "https://localhost:8080/",
          "height": 49
        },
        "outputId": "3e849705-a5c6-40fe-a1e9-676ddd9be29e"
      },
      "source": [
        "result = pd.read_sql_query( sql_query, conn)\n",
        "result"
      ],
      "execution_count": null,
      "outputs": [
        {
          "output_type": "execute_result",
          "data": {
            "text/html": [
              "<div>\n",
              "<style scoped>\n",
              "    .dataframe tbody tr th:only-of-type {\n",
              "        vertical-align: middle;\n",
              "    }\n",
              "\n",
              "    .dataframe tbody tr th {\n",
              "        vertical-align: top;\n",
              "    }\n",
              "\n",
              "    .dataframe thead th {\n",
              "        text-align: right;\n",
              "    }\n",
              "</style>\n",
              "<table border=\"1\" class=\"dataframe\">\n",
              "  <thead>\n",
              "    <tr style=\"text-align: right;\">\n",
              "      <th></th>\n",
              "      <th>name</th>\n",
              "    </tr>\n",
              "  </thead>\n",
              "  <tbody>\n",
              "  </tbody>\n",
              "</table>\n",
              "</div>"
            ],
            "text/plain": [
              "Empty DataFrame\n",
              "Columns: [name]\n",
              "Index: []"
            ]
          },
          "metadata": {
            "tags": []
          },
          "execution_count": 21
        }
      ]
    },
    {
      "cell_type": "code",
      "metadata": {
        "id": "Q6w-2ADyOs3g",
        "colab": {
          "base_uri": "https://localhost:8080/",
          "height": 49
        },
        "outputId": "56ca7328-a62a-4b43-b88c-cafe2855d8a7"
      },
      "source": [
        "pd.read_sql_query(\"select Director, Actor, Count(*) as Movies_with_YashChopra from(select p1.Name as Director, m1.title as Movie from Person p1 Inner Join M_Director md on TRIM(md.PID)=p1.PID Inner Join Movie m1 on TRIM(md.MID)=m1.MID and p1.Name LIKE 'Yash%' Group By p1.Name, m1.title) t1 Inner Join (select p2.Name as Actor,m2.title as Movie from Person p2 Inner Join M_Cast mc on TRIM(mc.PID)=p2.PID Inner Join Movie m2 on TRIM(mc.MID)=m2.MID Group By p2.Name, m2.title) t2 on t1.Movie=t2.Movie Group By t1.Director, t2.Actor Order By Movies_with_YashChopra DESC\",conn)"
      ],
      "execution_count": null,
      "outputs": [
        {
          "output_type": "execute_result",
          "data": {
            "text/html": [
              "<div>\n",
              "<style scoped>\n",
              "    .dataframe tbody tr th:only-of-type {\n",
              "        vertical-align: middle;\n",
              "    }\n",
              "\n",
              "    .dataframe tbody tr th {\n",
              "        vertical-align: top;\n",
              "    }\n",
              "\n",
              "    .dataframe thead th {\n",
              "        text-align: right;\n",
              "    }\n",
              "</style>\n",
              "<table border=\"1\" class=\"dataframe\">\n",
              "  <thead>\n",
              "    <tr style=\"text-align: right;\">\n",
              "      <th></th>\n",
              "      <th>Director</th>\n",
              "      <th>Actor</th>\n",
              "      <th>Movies_with_YashChopra</th>\n",
              "    </tr>\n",
              "  </thead>\n",
              "  <tbody>\n",
              "  </tbody>\n",
              "</table>\n",
              "</div>"
            ],
            "text/plain": [
              "Empty DataFrame\n",
              "Columns: [Director, Actor, Movies_with_YashChopra]\n",
              "Index: []"
            ]
          },
          "metadata": {
            "tags": []
          },
          "execution_count": 23
        }
      ]
    },
    {
      "cell_type": "code",
      "metadata": {
        "id": "q-EkRFE3LrrL",
        "colab": {
          "base_uri": "https://localhost:8080/",
          "height": 68
        },
        "outputId": "e82bc960-a102-4342-b8c7-a5671577559b"
      },
      "source": [
        "print(Query_9)"
      ],
      "execution_count": null,
      "outputs": [
        {
          "output_type": "stream",
          "text": [
            "Empty DataFrame\n",
            "Columns: [Name, PID, Num_Movie_wid_YC]\n",
            "Index: []\n"
          ],
          "name": "stdout"
        }
      ]
    }
  ]
}